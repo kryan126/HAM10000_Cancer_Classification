{
 "cells": [
  {
   "cell_type": "code",
   "execution_count": 1,
   "id": "f730b5df",
   "metadata": {},
   "outputs": [],
   "source": [
    "import numpy as np\n",
    "import matplotlib.pyplot as plt\n",
    "import pandas as pd"
   ]
  },
  {
   "cell_type": "code",
   "execution_count": 2,
   "id": "40b55b87",
   "metadata": {},
   "outputs": [],
   "source": [
    "%%capture\n",
    "!pip install pathlib"
   ]
  },
  {
   "cell_type": "code",
   "execution_count": 3,
   "id": "1eff70d0",
   "metadata": {},
   "outputs": [],
   "source": [
    "# Set Environmental Variables -- Must Edit set.env file\n",
    "import os\n",
    "import shutil\n",
    "from pathlib import Path\n",
    "from dotenv import load_dotenv\n",
    "env_path = Path('.') / 'set.env'\n",
    "load_dotenv(dotenv_path=env_path)\n",
    "\n",
    "skin_cancer_bucket=os.environ.get('SKIN_CANCER_BUCKET')\n",
    "skin_cancer_bucket_path=os.environ.get('SKIN_CANCER_BUCKET_PATH')\n",
    "skin_cancer_files=os.environ.get('SKIN_CANCER_FILES')\n",
    "skin_cancer_files_ext=os.environ.get('SKIN_CANCER_FILES_EXT')\n",
    "base_dir = os.environ.get('BASE_DIR')"
   ]
  },
  {
   "cell_type": "code",
   "execution_count": 4,
   "id": "70bc0f73",
   "metadata": {},
   "outputs": [
    {
     "name": "stdout",
     "output_type": "stream",
     "text": [
      "skin-cancer-project\n"
     ]
    }
   ],
   "source": [
    "# Check if environmental variables were defined correctly\n",
    "print(skin_cancer_bucket)"
   ]
  },
  {
   "cell_type": "code",
   "execution_count": 5,
   "id": "f5fd096e",
   "metadata": {},
   "outputs": [
    {
     "name": "stdout",
     "output_type": "stream",
     "text": [
      "Download training data set from skin-cancer-project\n"
     ]
    }
   ],
   "source": [
    "# Downloading Image Data\n",
    "import boto3\n",
    "\n",
    "#cleanup previous runs\n",
    "if os.path.exists(os.path.join(base_dir,skin_cancer_files)):\n",
    "    shutil.rmtree(base_dir+skin_cancer_files)\n",
    "    \n",
    "if os.path.exists(os.path.join(base_dir,skin_cancer_files_ext)):\n",
    "    os.remove(os.path.join(base_dir,skin_cancer_files_ext))    \n",
    "\n",
    "data_dir = os.path.join(base_dir,'HAM10000')\n",
    "\n",
    "if os.path.exists(os.path.join(base_dir,'HAM10000.tar.gz')):\n",
    "    os.remove(os.path.join(base_dir,'HAM10000.tar.gz'))\n",
    "\n",
    "if os.path.exists(data_dir):\n",
    "    shutil.rmtree(data_dir)\n",
    "    \n",
    "s3 = boto3.client('s3')\n",
    "s3.download_file(skin_cancer_bucket, skin_cancer_bucket_path+'/'+skin_cancer_files_ext,base_dir+skin_cancer_files_ext)\n",
    "\n",
    "print('Download training data set from '+skin_cancer_bucket)"
   ]
  },
  {
   "cell_type": "code",
   "execution_count": 6,
   "id": "0d7f7006",
   "metadata": {},
   "outputs": [],
   "source": [
    "%%capture\n",
    "!pip install torchtext"
   ]
  },
  {
   "cell_type": "code",
   "execution_count": 7,
   "id": "0c46b299",
   "metadata": {},
   "outputs": [],
   "source": [
    "%%capture\n",
    "import torchtext\n",
    "from numpy.random import seed\n",
    "seed(101)\n",
    "import pandas as pd\n",
    "import numpy as np\n",
    "import os\n",
    "\n",
    "os.mkdir(base_dir+skin_cancer_files)\n",
    "os.mkdir(base_dir+skin_cancer_files+'/HAM_images_part_1')\n",
    "os.mkdir(base_dir+skin_cancer_files+'/HAM_images_part_2')\n",
    "\n",
    "print('Uncompress data set for transformation')\n",
    "torchtext.utils.extract_archive(base_dir+skin_cancer_files_ext, base_dir+skin_cancer_files)\n",
    "torchtext.utils.extract_archive(base_dir+skin_cancer_files+'/HAM10000_images_part_1.zip', base_dir+skin_cancer_files+'/HAM_images_part_1')\n",
    "torchtext.utils.extract_archive(base_dir+skin_cancer_files+'/HAM10000_images_part_2.zip', base_dir+skin_cancer_files+'/HAM_images_part_2')"
   ]
  },
  {
   "cell_type": "code",
   "execution_count": 10,
   "id": "8bea2b6d",
   "metadata": {},
   "outputs": [],
   "source": [
    "# Uncomment to Check if the download worked\n",
    "#!ls {'../dataverse_files/HAM_images_part_2'}\n",
    "#!ls {'../dataverse_files/HAM_images_part_1'}"
   ]
  },
  {
   "cell_type": "code",
   "execution_count": 8,
   "id": "58264515",
   "metadata": {},
   "outputs": [],
   "source": [
    "# Run if you made the train/test directories already\n",
    "import shutil\n",
    "\n",
    "shutil.rmtree('../train')\n",
    "shutil.rmtree('../test')"
   ]
  },
  {
   "cell_type": "code",
   "execution_count": 9,
   "id": "b5cc4bf3",
   "metadata": {},
   "outputs": [],
   "source": [
    "# Creating Directories for Train Test and Subdirecories for Each Cancer Type \n",
    "\n",
    "# Train Directory Setup\n",
    "train_dir = base_dir + '/train'\n",
    "os.mkdir(train_dir)\n",
    "bkl_dir= train_dir + '/bkl'\n",
    "os.mkdir(bkl_dir)\n",
    "nv_dir= train_dir + '/nv'\n",
    "os.mkdir(nv_dir)\n",
    "df_dir= train_dir + '/df'\n",
    "os.mkdir(df_dir)\n",
    "mel_dir= train_dir + '/mel'\n",
    "os.mkdir(mel_dir)\n",
    "vasc_dir= train_dir + '/vasc'\n",
    "os.mkdir(vasc_dir)\n",
    "bcc_dir= train_dir + '/bcc'\n",
    "os.mkdir(bcc_dir)\n",
    "akiec_dir= train_dir + '/akiec'\n",
    "os.mkdir(akiec_dir)\n",
    "\n",
    "# Test Directory Setup \n",
    "test_dir = base_dir + '/test'\n",
    "os.mkdir(test_dir)\n",
    "bkl_dir= test_dir + '/bkl'\n",
    "os.mkdir(bkl_dir)\n",
    "nv_dir= test_dir + '/nv'\n",
    "os.mkdir(nv_dir)\n",
    "df_dir= test_dir + '/df'\n",
    "os.mkdir(df_dir)\n",
    "mel_dir= test_dir + '/mel'\n",
    "os.mkdir(mel_dir)\n",
    "vasc_dir= test_dir + '/vasc'\n",
    "os.mkdir(vasc_dir)\n",
    "bcc_dir= test_dir + '/bcc'\n",
    "os.mkdir(bcc_dir)\n",
    "akiec_dir= test_dir + '/akiec'\n",
    "os.mkdir(akiec_dir)"
   ]
  },
  {
   "cell_type": "code",
   "execution_count": 10,
   "id": "ebf04688",
   "metadata": {},
   "outputs": [
    {
     "data": {
      "text/html": [
       "<div>\n",
       "<style scoped>\n",
       "    .dataframe tbody tr th:only-of-type {\n",
       "        vertical-align: middle;\n",
       "    }\n",
       "\n",
       "    .dataframe tbody tr th {\n",
       "        vertical-align: top;\n",
       "    }\n",
       "\n",
       "    .dataframe thead th {\n",
       "        text-align: right;\n",
       "    }\n",
       "</style>\n",
       "<table border=\"1\" class=\"dataframe\">\n",
       "  <thead>\n",
       "    <tr style=\"text-align: right;\">\n",
       "      <th></th>\n",
       "      <th>lesion_id</th>\n",
       "      <th>image_id</th>\n",
       "      <th>dx</th>\n",
       "      <th>dx_type</th>\n",
       "      <th>age</th>\n",
       "      <th>sex</th>\n",
       "      <th>localization</th>\n",
       "      <th>dataset</th>\n",
       "    </tr>\n",
       "  </thead>\n",
       "  <tbody>\n",
       "    <tr>\n",
       "      <th>0</th>\n",
       "      <td>HAM_0000118</td>\n",
       "      <td>ISIC_0027419</td>\n",
       "      <td>bkl</td>\n",
       "      <td>histo</td>\n",
       "      <td>80.0</td>\n",
       "      <td>male</td>\n",
       "      <td>scalp</td>\n",
       "      <td>vidir_modern</td>\n",
       "    </tr>\n",
       "    <tr>\n",
       "      <th>1</th>\n",
       "      <td>HAM_0000118</td>\n",
       "      <td>ISIC_0025030</td>\n",
       "      <td>bkl</td>\n",
       "      <td>histo</td>\n",
       "      <td>80.0</td>\n",
       "      <td>male</td>\n",
       "      <td>scalp</td>\n",
       "      <td>vidir_modern</td>\n",
       "    </tr>\n",
       "    <tr>\n",
       "      <th>2</th>\n",
       "      <td>HAM_0002730</td>\n",
       "      <td>ISIC_0026769</td>\n",
       "      <td>bkl</td>\n",
       "      <td>histo</td>\n",
       "      <td>80.0</td>\n",
       "      <td>male</td>\n",
       "      <td>scalp</td>\n",
       "      <td>vidir_modern</td>\n",
       "    </tr>\n",
       "    <tr>\n",
       "      <th>3</th>\n",
       "      <td>HAM_0002730</td>\n",
       "      <td>ISIC_0025661</td>\n",
       "      <td>bkl</td>\n",
       "      <td>histo</td>\n",
       "      <td>80.0</td>\n",
       "      <td>male</td>\n",
       "      <td>scalp</td>\n",
       "      <td>vidir_modern</td>\n",
       "    </tr>\n",
       "    <tr>\n",
       "      <th>4</th>\n",
       "      <td>HAM_0001466</td>\n",
       "      <td>ISIC_0031633</td>\n",
       "      <td>bkl</td>\n",
       "      <td>histo</td>\n",
       "      <td>75.0</td>\n",
       "      <td>male</td>\n",
       "      <td>ear</td>\n",
       "      <td>vidir_modern</td>\n",
       "    </tr>\n",
       "  </tbody>\n",
       "</table>\n",
       "</div>"
      ],
      "text/plain": [
       "     lesion_id      image_id   dx dx_type   age   sex localization  \\\n",
       "0  HAM_0000118  ISIC_0027419  bkl   histo  80.0  male        scalp   \n",
       "1  HAM_0000118  ISIC_0025030  bkl   histo  80.0  male        scalp   \n",
       "2  HAM_0002730  ISIC_0026769  bkl   histo  80.0  male        scalp   \n",
       "3  HAM_0002730  ISIC_0025661  bkl   histo  80.0  male        scalp   \n",
       "4  HAM_0001466  ISIC_0031633  bkl   histo  75.0  male          ear   \n",
       "\n",
       "        dataset  \n",
       "0  vidir_modern  \n",
       "1  vidir_modern  \n",
       "2  vidir_modern  \n",
       "3  vidir_modern  \n",
       "4  vidir_modern  "
      ]
     },
     "execution_count": 10,
     "metadata": {},
     "output_type": "execute_result"
    }
   ],
   "source": [
    "# Read in Metafile\n",
    "meta_data = pd.read_csv('HAM10000_metadata')\n",
    "meta_data.head()"
   ]
  },
  {
   "cell_type": "code",
   "execution_count": 11,
   "id": "4648ec31",
   "metadata": {},
   "outputs": [
    {
     "data": {
      "text/plain": [
       "10015"
      ]
     },
     "execution_count": 11,
     "metadata": {},
     "output_type": "execute_result"
    }
   ],
   "source": [
    "meta_data['dx'].count()"
   ]
  },
  {
   "cell_type": "code",
   "execution_count": 12,
   "id": "a349e2d3",
   "metadata": {},
   "outputs": [
    {
     "data": {
      "image/png": "[encoded data removed]",
      "text/plain": [
       "<Figure size 1080x720 with 4 Axes>"
      ]
     },
     "metadata": {
      "needs_background": "light"
     },
     "output_type": "display_data"
    }
   ],
   "source": [
    "# Do Some EDA on the Data Set \n",
    "import seaborn as sns\n",
    "import matplotlib\n",
    "fig, axes = plt.subplots(2,2, figsize=(15,10)) \n",
    "plt.suptitle('HAM10000 Exploration')\n",
    "sns.set_style('darkgrid')\n",
    "\n",
    "ax = sns.countplot(x = 'dx', data = meta_data, color = 'green', ax = axes[0,0])\n",
    "_ = ax.set_title('Count of Cancer Types')\n",
    "_ = ax.set(xlabel = 'Cancer Type', ylabel = 'Frequency')\n",
    "\n",
    "ax1 = sns.countplot(x = 'sex', data = meta_data, color = 'orange', ax = axes[0,1])\n",
    "_ = ax1.set_title('Count Gender')\n",
    "_ = ax1.set(xlabel = 'Gender', ylabel = 'Frequency')\n",
    "\n",
    "ax2 = sns.countplot(x = 'localization', data = meta_data, color = 'blue', ax = axes[1,0])\n",
    "_ = ax2.set_title('Count Cancer Location')\n",
    "_ = ax2.set(xlabel = 'Location', ylabel = 'Frequency')\n",
    "_ = ax2.set_xticklabels(ax2.get_xticklabels(), rotation=90)\n",
    "\n",
    "ax3 = sns.histplot(x = meta_data['age'], color = 'purple', ax = axes[1,1])\n",
    "_ = ax3.set_title('Age Distribution')\n",
    "_ = ax3.set(xlabel = \"Age\")\n"
   ]
  },
  {
   "cell_type": "code",
   "execution_count": 13,
   "id": "f4bbbe17",
   "metadata": {},
   "outputs": [
    {
     "data": {
      "text/plain": [
       "nv       6705\n",
       "mel      1113\n",
       "bkl      1099\n",
       "bcc       514\n",
       "akiec     327\n",
       "vasc      142\n",
       "df        115\n",
       "Name: dx, dtype: int64"
      ]
     },
     "execution_count": 13,
     "metadata": {},
     "output_type": "execute_result"
    }
   ],
   "source": [
    "# Counts dxs \n",
    "meta_data['dx'].value_counts()"
   ]
  },
  {
   "cell_type": "code",
   "execution_count": 14,
   "id": "858af80e",
   "metadata": {},
   "outputs": [],
   "source": [
    "meta_data = meta_data.reset_index()"
   ]
  },
  {
   "cell_type": "code",
   "execution_count": 15,
   "id": "3e5aa307",
   "metadata": {},
   "outputs": [],
   "source": [
    "meta_data = meta_data.drop('index', axis = 1)"
   ]
  },
  {
   "cell_type": "code",
   "execution_count": 14,
   "id": "be9b564f",
   "metadata": {},
   "outputs": [],
   "source": [
    "# Splitting the images_id into train and test sets \n",
    "from sklearn.model_selection import train_test_split\n",
    "target = meta_data['dx']\n",
    "train_df, test_df = train_test_split(meta_data, test_size=0.25, stratify=target)"
   ]
  },
  {
   "cell_type": "code",
   "execution_count": 15,
   "id": "7c234bd1",
   "metadata": {},
   "outputs": [],
   "source": [
    "# Get a List of train and test images\n",
    "train_images = train_df['image_id']\n",
    "test_images = test_df['image_id']"
   ]
  },
  {
   "cell_type": "code",
   "execution_count": 16,
   "id": "5a395205",
   "metadata": {},
   "outputs": [],
   "source": [
    "# Set Path to Data \n",
    "path_1 = \"../dataverse_files/HAM_images_part_1\"\n",
    "part_1 = os.listdir(path_1)\n",
    "path_2 = \"../dataverse_files/HAM_images_part_2\"\n",
    "part_2 = os.listdir(path_2)"
   ]
  },
  {
   "cell_type": "code",
   "execution_count": 17,
   "id": "8eb06ff7",
   "metadata": {},
   "outputs": [],
   "source": [
    "# Move train images\n",
    "for image in train_images: \n",
    "    image_name = image + '.jpg'\n",
    "    row_num = meta_data.index[meta_data['image_id'] == image].tolist()[0]\n",
    "    cancer_type = meta_data.loc[row_num, 'dx']\n",
    "    \n",
    "    if image_name in part_1: \n",
    "        start_folder = os.path.join(path_1, image_name)\n",
    "        end_folder = os.path.join(train_dir, cancer_type, image_name)\n",
    "        shutil.copyfile(start_folder, end_folder)\n",
    "    \n",
    "    if image_name in part_2: \n",
    "        start_folder = os.path.join(path_2, image_name)\n",
    "        end_folder =  os.path.join(train_dir, cancer_type, image_name)\n",
    "        shutil.copyfile(start_folder, end_folder)"
   ]
  },
  {
   "cell_type": "code",
   "execution_count": 18,
   "id": "b608d738",
   "metadata": {},
   "outputs": [],
   "source": [
    "# Move test images \n",
    "for image in test_images: \n",
    "    image_name = image + '.jpg'\n",
    "    row_num = meta_data.index[meta_data['image_id'] == image].tolist()[0]\n",
    "    cancer_type = meta_data.loc[row_num, 'dx']\n",
    "   \n",
    "    if image_name in part_1: \n",
    "        start_folder = os.path.join(path_1, image_name)\n",
    "        end_folder = os.path.join(test_dir, cancer_type, image_name)\n",
    "        shutil.copyfile(start_folder, end_folder)\n",
    "    \n",
    "    if image_name in part_2: \n",
    "        start_folder = os.path.join(path_2, image_name)\n",
    "        end_folder =  os.path.join(test_dir, cancer_type, image_name)\n",
    "        shutil.copyfile(start_folder, end_folder)"
   ]
  },
  {
   "cell_type": "code",
   "execution_count": 25,
   "id": "956a03db",
   "metadata": {},
   "outputs": [],
   "source": [
    "#!ls {'../train/mel'}"
   ]
  },
  {
   "cell_type": "code",
   "execution_count": 27,
   "id": "115e649d",
   "metadata": {},
   "outputs": [],
   "source": [
    "# Uncomment to check transfer\n",
    "#!ls {'../train/akiec'}"
   ]
  },
  {
   "cell_type": "code",
   "execution_count": 28,
   "id": "502a3166",
   "metadata": {},
   "outputs": [
    {
     "name": "stdout",
     "output_type": "stream",
     "text": [
      "141\n"
     ]
    }
   ],
   "source": [
    "path, dirs, files = next(os.walk(\"../train/vasc\"))\n",
    "file_count = len(files)\n",
    "print(file_count)"
   ]
  },
  {
   "cell_type": "code",
   "execution_count": null,
   "id": "25eaea36",
   "metadata": {},
   "outputs": [],
   "source": [
    "# Visualizing Some Images\n",
    "f, axarr = plt.subplots(1,7)\n",
    "f.set_figheight(25)\n",
    "f.set_figwidth(15)\n",
    "i = 0 \n",
    "\n",
    "test_folders = ['bkl', 'nv', 'df', 'mel', 'vasc', 'bcc', 'akiec']\n",
    "labels = ['benign keratosis-like lesions', 'melanocytic nevi', \n",
    "          'dermatofibroma', 'melanoma', 'vascular lesions', 'basal cell carcinoma','actinic keratoses' ]\n",
    "\n",
    "for pid in [\"ISIC_0024312\",\"ISIC_0024306\",\"ISIC_0024318\", \"ISIC_0024310\", \"ISIC_0024370\", \"ISIC_0024331\", \"ISIC_0024418\"]:\n",
    "  path = train_dir + '/%s/%s.jpg' %(test_folders[i], pid)\n",
    "  axarr[i].imshow(plt.imread(path))\n",
    "  axarr[i].set_title(labels[i])\n",
    "  i+=1\n",
    "\n",
    "plt.tight_layout()"
   ]
  }
 ],
 "metadata": {
  "kernelspec": {
   "display_name": "conda_amazonei_pytorch_latest_p36",
   "language": "python",
   "name": "conda_amazonei_pytorch_latest_p36"
  },
  "language_info": {
   "codemirror_mode": {
    "name": "ipython",
    "version": 3
   },
   "file_extension": ".py",
   "mimetype": "text/x-python",
   "name": "python",
   "nbconvert_exporter": "python",
   "pygments_lexer": "ipython3",
   "version": "3.6.13"
  }
 },
 "nbformat": 4,
 "nbformat_minor": 5
}
