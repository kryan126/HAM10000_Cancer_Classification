{
 "cells": [
  {
   "cell_type": "code",
   "execution_count": 2,
   "id": "794a8a60",
   "metadata": {},
   "outputs": [],
   "source": [
    "# Importing Required Keras Packages\n",
    "from keras.models import Sequential\n",
    "from keras.layers import Conv2D, MaxPooling2D, Dropout, Flatten, Dense\n",
    "from keras.optimizers import Adam\n",
    "from keras.preprocessing.image import ImageDataGenerator\n",
    "import pandas as pd\n",
    "import numpy as np"
   ]
  },
  {
   "cell_type": "code",
   "execution_count": 3,
   "id": "26ef639a",
   "metadata": {},
   "outputs": [
    {
     "name": "stdout",
     "output_type": "stream",
     "text": [
      "Found 28168 images belonging to 7 classes.\n",
      "Found 7041 images belonging to 7 classes.\n",
      "Found 2504 images belonging to 7 classes.\n"
     ]
    }
   ],
   "source": [
    "# Generate Training, Testing, and Validation Batches \n",
    "train_dir = '../train'\n",
    "test_dir = '../test'\n",
    "\n",
    "dgen_train = ImageDataGenerator(rescale = 1./255,\n",
    "                                validation_split = 0.2)\n",
    "\n",
    "dgen_validation = ImageDataGenerator(rescale = 1./255)\n",
    "dgen_test = ImageDataGenerator(rescale=1./255)\n",
    "\n",
    "train_generator = dgen_train.flow_from_directory(train_dir,\n",
    "                                                 target_size=(28,28),\n",
    "                                                 subset = 'training',\n",
    "                                                 batch_size = 32,\n",
    "                                                 class_mode = 'categorical')\n",
    "\n",
    "validation_generator = dgen_train.flow_from_directory(train_dir,\n",
    "                                                 target_size=(28,28),\n",
    "                                                 subset = 'validation',\n",
    "                                                 batch_size = 32,\n",
    "                                                 class_mode = 'categorical')\n",
    "\n",
    "test_generator = dgen_test.flow_from_directory(test_dir,\n",
    "                                                 target_size=(28,28),\n",
    "                                                 batch_size = 32,\n",
    "                                                 class_mode = 'categorical')"
   ]
  },
  {
   "cell_type": "code",
   "execution_count": 4,
   "id": "ca0f9c95",
   "metadata": {},
   "outputs": [
    {
     "data": {
      "text/plain": [
       "{'akiec': 0, 'bcc': 1, 'bkl': 2, 'df': 3, 'mel': 4, 'nv': 5, 'vasc': 6}"
      ]
     },
     "execution_count": 4,
     "metadata": {},
     "output_type": "execute_result"
    }
   ],
   "source": [
    "# Check Class Indices \n",
    "train_generator.class_indices"
   ]
  },
  {
   "cell_type": "code",
   "execution_count": 5,
   "id": "53bc7b6d",
   "metadata": {},
   "outputs": [
    {
     "name": "stdout",
     "output_type": "stream",
     "text": [
      "Model: \"sequential\"\n",
      "_________________________________________________________________\n",
      "Layer (type)                 Output Shape              Param #   \n",
      "=================================================================\n",
      "conv2d (Conv2D)              (None, 28, 28, 256)       19456     \n",
      "_________________________________________________________________\n",
      "max_pooling2d (MaxPooling2D) (None, 14, 14, 256)       0         \n",
      "_________________________________________________________________\n",
      "dropout (Dropout)            (None, 14, 14, 256)       0         \n",
      "_________________________________________________________________\n",
      "conv2d_1 (Conv2D)            (None, 14, 14, 128)       819328    \n",
      "_________________________________________________________________\n",
      "max_pooling2d_1 (MaxPooling2 (None, 7, 7, 128)         0         \n",
      "_________________________________________________________________\n",
      "dropout_1 (Dropout)          (None, 7, 7, 128)         0         \n",
      "_________________________________________________________________\n",
      "flatten (Flatten)            (None, 6272)              0         \n",
      "_________________________________________________________________\n",
      "dense (Dense)                (None, 256)               1605888   \n",
      "_________________________________________________________________\n",
      "dense_1 (Dense)              (None, 128)               32896     \n",
      "_________________________________________________________________\n",
      "dropout_2 (Dropout)          (None, 128)               0         \n",
      "_________________________________________________________________\n",
      "dense_2 (Dense)              (None, 7)                 903       \n",
      "=================================================================\n",
      "Total params: 2,478,471\n",
      "Trainable params: 2,478,471\n",
      "Non-trainable params: 0\n",
      "_________________________________________________________________\n"
     ]
    }
   ],
   "source": [
    "# Build Model \n",
    "model = Sequential()\n",
    "model.add(Conv2D(256,(5,5),padding=\"SAME\",activation=\"relu\",input_shape=(28,28, 3)))\n",
    "model.add(MaxPooling2D(pool_size=(2,2)))\n",
    "model.add(Dropout(0.5))\n",
    "model.add(Conv2D(128,(5,5),padding=\"SAME\",activation=\"relu\")) \n",
    "model.add(MaxPooling2D(pool_size=(2,2)))\n",
    "model.add(Dropout(0.5))\n",
    "model.add(Flatten())\n",
    "model.add(Dense(256,activation='relu'))\n",
    "model.add(Dense(128,activation='relu'))\n",
    "model.add(Dropout(0.5))\n",
    "model.add(Dense(7,activation = 'softmax')) \n",
    "model.summary()"
   ]
  },
  {
   "cell_type": "code",
   "execution_count": 7,
   "id": "200489c3",
   "metadata": {},
   "outputs": [],
   "source": [
    "# Compile Model\n",
    "model.compile(Adam(lr=0.001),loss='categorical_crossentropy',metrics=['accuracy'])"
   ]
  },
  {
   "cell_type": "code",
   "execution_count": 10,
   "id": "e3aae7a0",
   "metadata": {},
   "outputs": [
    {
     "name": "stdout",
     "output_type": "stream",
     "text": [
      "Epoch 1/30\n",
      "881/881 [==============================] - 221s 251ms/step - loss: 0.7509 - accuracy: 0.7172 - val_loss: 0.9128 - val_accuracy: 0.6563\n",
      "Epoch 2/30\n",
      "881/881 [==============================] - 221s 251ms/step - loss: 0.7171 - accuracy: 0.7299 - val_loss: 0.7394 - val_accuracy: 0.7382\n",
      "Epoch 3/30\n",
      "881/881 [==============================] - 221s 250ms/step - loss: 0.6902 - accuracy: 0.7403 - val_loss: 0.7420 - val_accuracy: 0.7157\n",
      "Epoch 4/30\n",
      "881/881 [==============================] - 221s 251ms/step - loss: 0.6742 - accuracy: 0.7461 - val_loss: 0.6869 - val_accuracy: 0.7526\n",
      "Epoch 5/30\n",
      "881/881 [==============================] - 221s 251ms/step - loss: 0.6468 - accuracy: 0.7554 - val_loss: 0.7180 - val_accuracy: 0.7364\n",
      "Epoch 6/30\n",
      "881/881 [==============================] - 221s 251ms/step - loss: 0.6404 - accuracy: 0.7577 - val_loss: 0.6399 - val_accuracy: 0.7675\n",
      "Epoch 7/30\n",
      "881/881 [==============================] - 221s 251ms/step - loss: 0.6214 - accuracy: 0.7677 - val_loss: 0.6944 - val_accuracy: 0.7472\n",
      "Epoch 8/30\n",
      "881/881 [==============================] - 221s 251ms/step - loss: 0.5994 - accuracy: 0.7743 - val_loss: 0.6135 - val_accuracy: 0.7810\n",
      "Epoch 9/30\n",
      "881/881 [==============================] - 221s 251ms/step - loss: 0.5960 - accuracy: 0.7783 - val_loss: 0.6369 - val_accuracy: 0.7800\n",
      "Epoch 10/30\n",
      "881/881 [==============================] - 221s 251ms/step - loss: 0.5758 - accuracy: 0.7846 - val_loss: 0.6031 - val_accuracy: 0.7868\n",
      "Epoch 11/30\n",
      "881/881 [==============================] - 221s 251ms/step - loss: 0.5559 - accuracy: 0.7906 - val_loss: 0.5966 - val_accuracy: 0.7878\n",
      "Epoch 12/30\n",
      "881/881 [==============================] - 221s 251ms/step - loss: 0.5467 - accuracy: 0.7946 - val_loss: 0.6451 - val_accuracy: 0.7679\n",
      "Epoch 13/30\n",
      "881/881 [==============================] - 221s 251ms/step - loss: 0.5281 - accuracy: 0.8023 - val_loss: 0.6312 - val_accuracy: 0.7617\n",
      "Epoch 14/30\n",
      "881/881 [==============================] - 221s 251ms/step - loss: 0.5254 - accuracy: 0.8050 - val_loss: 0.6324 - val_accuracy: 0.7870\n",
      "Epoch 15/30\n",
      "881/881 [==============================] - 221s 251ms/step - loss: 0.5049 - accuracy: 0.8084 - val_loss: 0.6350 - val_accuracy: 0.7678\n",
      "Epoch 16/30\n",
      "881/881 [==============================] - 221s 251ms/step - loss: 0.4985 - accuracy: 0.8140 - val_loss: 0.5671 - val_accuracy: 0.8007\n",
      "Epoch 17/30\n",
      "881/881 [==============================] - 221s 251ms/step - loss: 0.4957 - accuracy: 0.8149 - val_loss: 0.5511 - val_accuracy: 0.8016\n",
      "Epoch 18/30\n",
      "881/881 [==============================] - 221s 251ms/step - loss: 0.4842 - accuracy: 0.8212 - val_loss: 0.5612 - val_accuracy: 0.7949\n",
      "Epoch 19/30\n",
      "881/881 [==============================] - 221s 251ms/step - loss: 0.4805 - accuracy: 0.8210 - val_loss: 0.6724 - val_accuracy: 0.7688\n",
      "Epoch 20/30\n",
      "881/881 [==============================] - 221s 251ms/step - loss: 0.4670 - accuracy: 0.8280 - val_loss: 0.5718 - val_accuracy: 0.7976\n",
      "Epoch 21/30\n",
      "881/881 [==============================] - 221s 251ms/step - loss: 0.4586 - accuracy: 0.8298 - val_loss: 0.5886 - val_accuracy: 0.7813\n",
      "Epoch 22/30\n",
      "881/881 [==============================] - 221s 251ms/step - loss: 0.4524 - accuracy: 0.8307 - val_loss: 0.5528 - val_accuracy: 0.7949\n",
      "Epoch 23/30\n",
      "881/881 [==============================] - 221s 251ms/step - loss: 0.4461 - accuracy: 0.8360 - val_loss: 0.5144 - val_accuracy: 0.8239\n",
      "Epoch 24/30\n",
      "881/881 [==============================] - 221s 251ms/step - loss: 0.4203 - accuracy: 0.8402 - val_loss: 0.4455 - val_accuracy: 0.8500\n",
      "Epoch 25/30\n",
      "881/881 [==============================] - 221s 251ms/step - loss: 0.4212 - accuracy: 0.8435 - val_loss: 0.4969 - val_accuracy: 0.8226\n",
      "Epoch 26/30\n",
      "881/881 [==============================] - 221s 251ms/step - loss: 0.4231 - accuracy: 0.8479 - val_loss: 0.5389 - val_accuracy: 0.7965\n",
      "Epoch 27/30\n",
      "881/881 [==============================] - 221s 251ms/step - loss: 0.4160 - accuracy: 0.8440 - val_loss: 0.4986 - val_accuracy: 0.8215\n",
      "Epoch 28/30\n",
      "881/881 [==============================] - 221s 251ms/step - loss: 0.4057 - accuracy: 0.8519 - val_loss: 0.5521 - val_accuracy: 0.8066\n",
      "Epoch 29/30\n",
      "881/881 [==============================] - 221s 251ms/step - loss: 0.4055 - accuracy: 0.8478 - val_loss: 0.5109 - val_accuracy: 0.8128\n",
      "Epoch 30/30\n",
      "881/881 [==============================] - 221s 251ms/step - loss: 0.3977 - accuracy: 0.8524 - val_loss: 0.5014 - val_accuracy: 0.8259\n"
     ]
    }
   ],
   "source": [
    "history = model.fit(train_generator,\n",
    "                    epochs = 30,\n",
    "                    validation_data = validation_generator)"
   ]
  },
  {
   "cell_type": "code",
   "execution_count": 11,
   "id": "465f9017",
   "metadata": {},
   "outputs": [
    {
     "name": "stdout",
     "output_type": "stream",
     "text": [
      "79/79 [==============================] - 26s 325ms/step - loss: 0.8935 - accuracy: 0.6777\n",
      "test loss:0.8934811949729919 test acc:0.6777156591415405\n"
     ]
    }
   ],
   "source": [
    "# Test Accuracy\n",
    "test_loss, test_acc = model.evaluate(test_generator)\n",
    "print('test loss:{} test acc:{}'.format(test_loss,test_acc))"
   ]
  }
 ],
 "metadata": {
  "kernelspec": {
   "display_name": "conda_amazonei_tensorflow2_p36",
   "language": "python",
   "name": "conda_amazonei_tensorflow2_p36"
  },
  "language_info": {
   "codemirror_mode": {
    "name": "ipython",
    "version": 3
   },
   "file_extension": ".py",
   "mimetype": "text/x-python",
   "name": "python",
   "nbconvert_exporter": "python",
   "pygments_lexer": "ipython3",
   "version": "3.6.13"
  }
 },
 "nbformat": 4,
 "nbformat_minor": 5
}
